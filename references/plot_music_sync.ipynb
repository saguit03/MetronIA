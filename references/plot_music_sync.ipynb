{
  "cells": [
    {
      "cell_type": "markdown",
      "metadata": {},
      "source": [
        "\n# Music Synchronization with Dynamic Time Warping\n\nIn this short tutorial, we demonstrate the use of dynamic time warping (DTW) for music synchronization\nwhich is implemented in `librosa`.\n\nWe assume that you are familiar with the algorithm and focus on the application. Further information about\nthe algorithm can be found in the literature, e. g. [1]_.\n\nOur example consists of two recordings of the first bars of the famous\nbrass section lick in Stevie Wonder's rendition of \"Sir Duke\".\nDue to differences in tempo, the first recording lasts for ca. 7 seconds and the second recording for ca. 5 seconds.\nOur objective is now to find an alignment between these two recordings by using DTW.\n"
      ]
    },
    {
      "cell_type": "code",
      "execution_count": null,
      "metadata": {
        "collapsed": false
      },
      "outputs": [],
      "source": [
        "# Code source: Stefan Balke\n# License: ISC\n# sphinx_gallery_thumbnail_number = 4\n\nimport numpy as np\nimport matplotlib\nimport matplotlib.pyplot as plt\n\nimport librosa"
      ]
    },
    {
      "cell_type": "markdown",
      "metadata": {},
      "source": [
        "## Load Audio Recordings\nFirst, let's load a first version of our audio recordings.\n\n"
      ]
    },
    {
      "cell_type": "code",
      "execution_count": null,
      "metadata": {
        "collapsed": false
      },
      "outputs": [],
      "source": [
        "x_1, fs = librosa.load('audio/sir_duke_slow.ogg')\n# And a second version, slightly faster.\nx_2, fs = librosa.load('audio/sir_duke_fast.ogg')\n\nfig, ax = plt.subplots(nrows=2, sharex=True, sharey=True)\nlibrosa.display.waveshow(x_1, sr=fs, ax=ax[0])\nax[0].set(title='Slower Version $X_1$')\nax[0].label_outer()\n\nlibrosa.display.waveshow(x_2, sr=fs, ax=ax[1])\nax[1].set(title='Faster Version $X_2$')"
      ]
    },
    {
      "cell_type": "markdown",
      "metadata": {},
      "source": [
        "## Extract Chroma Features\n\n"
      ]
    },
    {
      "cell_type": "code",
      "execution_count": null,
      "metadata": {
        "collapsed": false
      },
      "outputs": [],
      "source": [
        "hop_length = 1024\n\nx_1_chroma = librosa.feature.chroma_cqt(y=x_1, sr=fs,\n                                         hop_length=hop_length)\nx_2_chroma = librosa.feature.chroma_cqt(y=x_2, sr=fs,\n                                         hop_length=hop_length)\n\nfig, ax = plt.subplots(nrows=2, sharey=True)\nimg = librosa.display.specshow(x_1_chroma, x_axis='time',\n                               y_axis='chroma',\n                               hop_length=hop_length, ax=ax[0])\nax[0].set(title='Chroma Representation of $X_1$')\nlibrosa.display.specshow(x_2_chroma, x_axis='time',\n                         y_axis='chroma',\n                         hop_length=hop_length, ax=ax[1])\nax[1].set(title='Chroma Representation of $X_2$')\nfig.colorbar(img, ax=ax)"
      ]
    },
    {
      "cell_type": "markdown",
      "metadata": {},
      "source": [
        "## Align Chroma Sequences\n\n"
      ]
    },
    {
      "cell_type": "code",
      "execution_count": null,
      "metadata": {
        "collapsed": false
      },
      "outputs": [],
      "source": [
        "D, wp = librosa.sequence.dtw(X=x_1_chroma, Y=x_2_chroma, metric='cosine')\nwp_s = librosa.frames_to_time(wp, sr=fs, hop_length=hop_length)\n\nfig, ax = plt.subplots()\nimg = librosa.display.specshow(D, x_axis='time', y_axis='time', sr=fs,\n                               cmap='gray_r', hop_length=hop_length, ax=ax)\nax.plot(wp_s[:, 1], wp_s[:, 0], marker='o', color='r')\nax.set(title='Warping Path on Acc. Cost Matrix $D$',\n       xlabel='Time $(X_2)$', ylabel='Time $(X_1)$')\nfig.colorbar(img, ax=ax)"
      ]
    },
    {
      "cell_type": "markdown",
      "metadata": {},
      "source": [
        "## Alternative Visualization in the Time Domain\n\nWe can also visualize the warping path directly on our time domain signals.\nRed lines connect corresponding time positions in the input signals.\n(Thanks to F. Zalkow for the nice visualization.)\n\n"
      ]
    },
    {
      "cell_type": "code",
      "execution_count": null,
      "metadata": {
        "collapsed": false
      },
      "outputs": [],
      "source": [
        "from matplotlib.patches import ConnectionPatch\n\nfig, (ax1, ax2) = plt.subplots(nrows=2, sharex=True, sharey=True, figsize=(8,4))\n\n# Plot x_2\nlibrosa.display.waveshow(x_2, sr=fs, ax=ax2)\nax2.set(title='Faster Version $X_2$')\n\n# Plot x_1\nlibrosa.display.waveshow(x_1, sr=fs, ax=ax1)\nax1.set(title='Slower Version $X_1$')\nax1.label_outer()\n\n\nn_arrows = 20\nfor tp1, tp2 in wp_s[::len(wp_s)//n_arrows]:\n    # Create a connection patch between the aligned time points\n    # in each subplot\n    con = ConnectionPatch(xyA=(tp1, 0), xyB=(tp2, 0),\n                          axesA=ax1, axesB=ax2,\n                          coordsA='data', coordsB='data',\n                          color='r', linestyle='--',\n                          alpha=0.5)\n    con.set_in_layout(False)  # This is needed to preserve layout\n    ax2.add_artist(con)"
      ]
    },
    {
      "cell_type": "markdown",
      "metadata": {},
      "source": [
        "## Next steps...\n\nAlright, you might ask where to go from here.\nOnce we have the warping path between our two signals,\nwe could realize different applications.\nOne example is a player which enables you to navigate between\ndifferent recordings of the same piece of music,\ne.g. one of Wagner's symphonies played by an orchestra or in a piano-reduced version.\n\nAnother example is that you could apply time scale modification algorithms,\ne.g. speed up the slower signal to the tempo of the faster one.\n\n## Literature\n\n.. [1] Meinard M\u00fcller, Fundamentals of Music Processing \u2014 Audio, Analysis, Algorithms, Applications.\n    Springer Verlag, 2015.\n\n"
      ]
    }
  ],
  "metadata": {
    "kernelspec": {
      "display_name": "Python 3",
      "language": "python",
      "name": "python3"
    },
    "language_info": {
      "codemirror_mode": {
        "name": "ipython",
        "version": 3
      },
      "file_extension": ".py",
      "mimetype": "text/x-python",
      "name": "python",
      "nbconvert_exporter": "python",
      "pygments_lexer": "ipython3",
      "version": "3.8.20"
    }
  },
  "nbformat": 4,
  "nbformat_minor": 0
}