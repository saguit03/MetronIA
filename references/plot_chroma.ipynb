{
  "cells": [
    {
      "cell_type": "markdown",
      "metadata": {},
      "source": [
        "\n# Enhanced chroma and chroma variants\n\nThis notebook demonstrates a variety of techniques for enhancing chroma features and \nalso, introduces chroma variants implemented in librosa.\n"
      ]
    },
    {
      "cell_type": "markdown",
      "metadata": {},
      "source": [
        "## Enhanced chroma\nBeyond the default parameter settings of librosa's chroma functions, we apply the following \nenhancements:\n\n   1. Harmonic-percussive-residual source separation to eliminate transients.\n   2. Nearest-neighbor smoothing to eliminate passing tones and sparse noise.  This is inspired by the\n      recurrence-based smoothing technique of\n      [Cho and Bello, 2011](https://zenodo.org/record/1417557).\n   3. Local median filtering to suppress remaining discontinuities.\n\n"
      ]
    },
    {
      "cell_type": "code",
      "execution_count": null,
      "metadata": {
        "collapsed": false
      },
      "outputs": [],
      "source": [
        "# Code source: Brian McFee\n# License: ISC\n# sphinx_gallery_thumbnail_number = 5\n\nimport numpy as np\nimport scipy\nimport matplotlib.pyplot as plt\n\nimport librosa"
      ]
    },
    {
      "cell_type": "markdown",
      "metadata": {},
      "source": [
        "We'll use a track that has harmonic, melodic, and percussive elements\n Karissa Hobbs - Let's Go Fishin'\n\n"
      ]
    },
    {
      "cell_type": "code",
      "execution_count": null,
      "metadata": {
        "collapsed": false
      },
      "outputs": [],
      "source": [
        "y, sr = librosa.load(librosa.ex('fishin'))"
      ]
    },
    {
      "cell_type": "markdown",
      "metadata": {},
      "source": [
        "First, let's plot the original chroma\n\n"
      ]
    },
    {
      "cell_type": "code",
      "execution_count": null,
      "metadata": {
        "collapsed": false
      },
      "outputs": [],
      "source": [
        "chroma_orig = librosa.feature.chroma_cqt(y=y, sr=sr)\n\n# For display purposes, let's zoom in on a 15-second chunk from the middle of the song\nidx = tuple([slice(None), slice(*list(librosa.time_to_frames([45, 60])))])\n\n# And for comparison, we'll show the CQT matrix as well.\nC = np.abs(librosa.cqt(y=y, sr=sr, bins_per_octave=12*3, n_bins=7*12*3))\n\n\nfig, ax = plt.subplots(nrows=2, sharex=True)\nimg1 = librosa.display.specshow(librosa.amplitude_to_db(C, ref=np.max)[idx],\n                                y_axis='cqt_note', x_axis='time', bins_per_octave=12*3,\n                                ax=ax[0])\nfig.colorbar(img1, ax=[ax[0]], format=\"%+2.f dB\")\nax[0].label_outer()\n\nimg2 = librosa.display.specshow(chroma_orig[idx], y_axis='chroma', x_axis='time', ax=ax[1])\nfig.colorbar(img2, ax=[ax[1]])\nax[1].set(ylabel='Default chroma')"
      ]
    },
    {
      "cell_type": "markdown",
      "metadata": {},
      "source": [
        "We can do better by isolating the harmonic component of the audio signal.\nWe'll use a large margin for separating harmonics from percussives:\n\n"
      ]
    },
    {
      "cell_type": "code",
      "execution_count": null,
      "metadata": {
        "collapsed": false
      },
      "outputs": [],
      "source": [
        "y_harm = librosa.effects.harmonic(y=y, margin=8)\nchroma_harm = librosa.feature.chroma_cqt(y=y_harm, sr=sr)\n\n\nfig, ax = plt.subplots(nrows=2, sharex=True, sharey=True)\nlibrosa.display.specshow(chroma_orig[idx], y_axis='chroma', x_axis='time', ax=ax[0])\nax[0].set(ylabel='Default chroma')\nax[0].label_outer()\n\nlibrosa.display.specshow(chroma_harm[idx], y_axis='chroma', x_axis='time', ax=ax[1])\nax[1].set(ylabel='Harmonic')"
      ]
    },
    {
      "cell_type": "markdown",
      "metadata": {},
      "source": [
        "There's still some noise in there though.\nWe can clean it up using non-local filtering.\nThis effectively removes any sparse additive noise from the features.\n\n"
      ]
    },
    {
      "cell_type": "code",
      "execution_count": null,
      "metadata": {
        "collapsed": false
      },
      "outputs": [],
      "source": [
        "chroma_filter = np.minimum(chroma_harm,\n                           librosa.decompose.nn_filter(chroma_harm,\n                                                       aggregate=np.median,\n                                                       metric='cosine'))\n\n\nfig, ax = plt.subplots(nrows=2, sharex=True, sharey=True)\nlibrosa.display.specshow(chroma_harm[idx], y_axis='chroma', x_axis='time', ax=ax[0])\nax[0].set(ylabel='Harmonic')\nax[0].label_outer()\n\nlibrosa.display.specshow(chroma_filter[idx], y_axis='chroma', x_axis='time', ax=ax[1])\nax[1].set(ylabel='Non-local')"
      ]
    },
    {
      "cell_type": "markdown",
      "metadata": {},
      "source": [
        "Local discontinuities and transients can be suppressed by\nusing a horizontal median filter.\n\n"
      ]
    },
    {
      "cell_type": "code",
      "execution_count": null,
      "metadata": {
        "collapsed": false
      },
      "outputs": [],
      "source": [
        "chroma_smooth = scipy.ndimage.median_filter(chroma_filter, size=(1, 9))\n\n\nfig, ax = plt.subplots(nrows=2, sharex=True, sharey=True)\nlibrosa.display.specshow(chroma_filter[idx], y_axis='chroma', x_axis='time', ax=ax[0])\nax[0].set(ylabel='Non-local')\nax[0].label_outer()\n\nlibrosa.display.specshow(chroma_smooth[idx], y_axis='chroma', x_axis='time', ax=ax[1])\nax[1].set(ylabel='Median-filtered')"
      ]
    },
    {
      "cell_type": "markdown",
      "metadata": {},
      "source": [
        "A final comparison between the CQT, original chromagram\nand the result of our filtering.\n\n"
      ]
    },
    {
      "cell_type": "code",
      "execution_count": null,
      "metadata": {
        "collapsed": false
      },
      "outputs": [],
      "source": [
        "fig, ax = plt.subplots(nrows=3, sharex=True)\nlibrosa.display.specshow(librosa.amplitude_to_db(C, ref=np.max)[idx],\n                         y_axis='cqt_note', x_axis='time',\n                         bins_per_octave=12*3, ax=ax[0])\nax[0].set(ylabel='CQT')\nax[0].label_outer()\nlibrosa.display.specshow(chroma_orig[idx], y_axis='chroma', x_axis='time', ax=ax[1])\nax[1].set(ylabel='Default chroma')\nax[1].label_outer()\nlibrosa.display.specshow(chroma_smooth[idx], y_axis='chroma', x_axis='time', ax=ax[2])\nax[2].set(ylabel='Processed')"
      ]
    },
    {
      "cell_type": "markdown",
      "metadata": {},
      "source": [
        "## Chroma variants\nThere are three chroma variants implemented in librosa: `chroma_stft`, `chroma_cqt`, and `chroma_cens`.\n`chroma_stft` and `chroma_cqt` are two alternative ways of plotting chroma.\n`chroma_stft` performs short-time fourier transform of an audio input and maps each STFT bin to chroma, while `chroma_cqt` uses constant-Q transform and maps each cq-bin to chroma.      \n\nA comparison between the STFT and the CQT methods for chromagram.\n\n"
      ]
    },
    {
      "cell_type": "code",
      "execution_count": null,
      "metadata": {
        "collapsed": false
      },
      "outputs": [],
      "source": [
        "chromagram_stft = librosa.feature.chroma_stft(y=y, sr=sr)\nchromagram_cqt = librosa.feature.chroma_cqt(y=y, sr=sr)\n\n\nfig, ax = plt.subplots(nrows=2, sharex=True, sharey=True)\nlibrosa.display.specshow(chromagram_stft[idx], y_axis='chroma', x_axis='time', ax=ax[0])\nax[0].set(ylabel='STFT')\nax[0].label_outer()\n\nlibrosa.display.specshow(chromagram_cqt[idx], y_axis='chroma', x_axis='time', ax=ax[1])\nax[1].set(ylabel='CQT')"
      ]
    },
    {
      "cell_type": "markdown",
      "metadata": {},
      "source": [
        "CENS features (`chroma_cens`) are variants of chroma features introduced in\n[M\u00fcller and Ewart, 2011](https://zenodo.org/record/1416032), in which\nadditional post processing steps are performed on the constant-Q chromagram to obtain features\nthat are invariant to dynamics and timbre.\n\nThus, the CENS features are useful for applications, such as audio matching and retrieval.\n\nFollowing steps are additional processing done on the chromagram, and are implemented in `chroma_cens`:\n  1. L1-Normalization across each chroma vector\n  2. Quantization of the amplitudes based on \"log-like\" amplitude thresholds\n  3. Smoothing with sliding window (optional parameter)\n  4. Downsampling (not implemented)\n\nA comparison between the original constant-Q chromagram and the CENS features.\n\n"
      ]
    },
    {
      "cell_type": "code",
      "execution_count": null,
      "metadata": {
        "collapsed": false
      },
      "outputs": [],
      "source": [
        "chromagram_cens = librosa.feature.chroma_cens(y=y, sr=sr)\n\n\nfig, ax = plt.subplots(nrows=2, sharex=True, sharey=True)\nlibrosa.display.specshow(chromagram_cqt[idx], y_axis='chroma', x_axis='time', ax=ax[0])\nax[0].set(ylabel='Orig')\n\nlibrosa.display.specshow(chromagram_cens[idx], y_axis='chroma', x_axis='time', ax=ax[1])\nax[1].set(ylabel='CENS')"
      ]
    }
  ],
  "metadata": {
    "kernelspec": {
      "display_name": "Python 3",
      "language": "python",
      "name": "python3"
    },
    "language_info": {
      "codemirror_mode": {
        "name": "ipython",
        "version": 3
      },
      "file_extension": ".py",
      "mimetype": "text/x-python",
      "name": "python",
      "nbconvert_exporter": "python",
      "pygments_lexer": "ipython3",
      "version": "3.8.20"
    }
  },
  "nbformat": 4,
  "nbformat_minor": 0
}